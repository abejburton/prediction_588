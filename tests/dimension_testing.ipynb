{
 "cells": [
  {
   "cell_type": "code",
   "execution_count": 1,
   "id": "577fc58c-489e-479f-b2b6-2332b97d6415",
   "metadata": {},
   "outputs": [],
   "source": [
    "import numpy as np\n",
    "import sys\n",
    "sys.path.append(\"../\")\n",
    "\n",
    "from dataGen.DataMaker import DataMaker\n",
    "from models.logit import helper_func, logit_model\n",
    "\n",
    "nsamp = 1000\n",
    "nfeat = 3\n",
    "beta = np.array([.2, -.5, -.1, -.3])"
   ]
  },
  {
   "cell_type": "code",
   "execution_count": 2,
   "id": "0f809f5e-4f2e-46a7-910f-707890044567",
   "metadata": {},
   "outputs": [],
   "source": [
    "def log_likelihood(beta: np.ndarray, y: np.ndarray, X: np.ndarray) -> float:\n",
    "    \"\"\"\n",
    "    :param beta: coefficients\n",
    "    :param y: output data\n",
    "    :param X: input data\n",
    "    :return: log-likelihood of the data\n",
    "    \"\"\"\n",
    "    return -np.sum(y*np.log((np.e ** (X @ beta)) * helper_func(X, beta)) + (1-y)*np.log(helper_func(X, beta)))"
   ]
  },
  {
   "cell_type": "code",
   "execution_count": 3,
   "id": "b69866a1-8714-47d9-9af3-d03c0e8f61ea",
   "metadata": {},
   "outputs": [],
   "source": [
    "# define logit link function\n",
    "def link_func(x, b, e):\n",
    "    return (np.e ** (np.add(x @ b, e))) / (1 + np.e ** (np.add(x @ b, e)))"
   ]
  },
  {
   "cell_type": "code",
   "execution_count": 4,
   "id": "eee6e5ed-b912-451f-8bd1-5f9ceb741d4c",
   "metadata": {},
   "outputs": [],
   "source": [
    "data_gen = DataMaker(nsamp, nfeat)\n",
    "X, y = data_gen.make_binary_data(beta)"
   ]
  },
  {
   "cell_type": "code",
   "execution_count": 5,
   "id": "9e8c0cc9-77b3-4150-a9d3-f1228351965b",
   "metadata": {},
   "outputs": [
    {
     "data": {
      "text/plain": [
       "677386.1074460209"
      ]
     },
     "execution_count": 5,
     "metadata": {},
     "output_type": "execute_result"
    }
   ],
   "source": [
    "log_likelihood(beta, y, X)"
   ]
  },
  {
   "cell_type": "code",
   "execution_count": 6,
   "id": "90367034-3be6-435b-9f73-8201cd2375e9",
   "metadata": {},
   "outputs": [
    {
     "name": "stdout",
     "output_type": "stream",
     "text": [
      "Warning: Desired error not necessarily achieved due to precision loss.\n",
      "         Current function value: 668748.086852\n",
      "         Iterations: 18\n",
      "         Function evaluations: 225\n",
      "         Gradient evaluations: 45\n"
     ]
    },
    {
     "data": {
      "text/plain": [
       "array([-4.47311998e-01, -6.35791351e-07,  1.32996920e-07,  1.81098065e-07])"
      ]
     },
     "execution_count": 6,
     "metadata": {},
     "output_type": "execute_result"
    }
   ],
   "source": [
    "logit_model(X, y, log_likelihood)"
   ]
  },
  {
   "cell_type": "code",
   "execution_count": null,
   "id": "00b84dab-cdcd-4da2-8626-9ab8402b8414",
   "metadata": {},
   "outputs": [],
   "source": []
  }
 ],
 "metadata": {
  "kernelspec": {
   "display_name": "Python 3 (ipykernel)",
   "language": "python",
   "name": "python3"
  },
  "language_info": {
   "codemirror_mode": {
    "name": "ipython",
    "version": 3
   },
   "file_extension": ".py",
   "mimetype": "text/x-python",
   "name": "python",
   "nbconvert_exporter": "python",
   "pygments_lexer": "ipython3",
   "version": "3.9.12"
  }
 },
 "nbformat": 4,
 "nbformat_minor": 5
}
